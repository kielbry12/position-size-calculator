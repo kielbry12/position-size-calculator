{
 "cells": [
  {
   "cell_type": "code",
   "execution_count": 105,
   "source": [
    "import pandas as pd"
   ],
   "outputs": [],
   "metadata": {}
  },
  {
   "cell_type": "code",
   "execution_count": 106,
   "source": [
    "while True:\r\n",
    "              tas = input(\"Trading Account Size:\")\r\n",
    "              try:\r\n",
    "                     tas = float(tas)\r\n",
    "              except:\r\n",
    "                     print(\"Invalid input.\")\r\n",
    "                     continue\r\n",
    "              e = input(\"Entry price:\")\r\n",
    "              try:\r\n",
    "                     e = float(e)\r\n",
    "              except:\r\n",
    "                     print(\"Invalid input.\")\r\n",
    "                     continue\r\n",
    "              s = input(\"Stoploss price:\")\r\n",
    "              try:\r\n",
    "                     s = float(s)\r\n",
    "              except:\r\n",
    "                     print(\"Invalid input.\")\r\n",
    "                     continue\r\n",
    "              r = input(\"Maximum Risk %:\")\r\n",
    "              try:\r\n",
    "                     r = float(r)\r\n",
    "              except:\r\n",
    "                     print(\"Invalid input.\")\r\n",
    "                     continue\r\n",
    "              break"
   ],
   "outputs": [],
   "metadata": {}
  },
  {
   "cell_type": "code",
   "execution_count": 107,
   "source": [
    "def long_order(tas,e,s,r):\r\n",
    "       df = pd.DataFrame({\"Position\":\"Long\",\"Entry Price\":e,\r\n",
    "           \"Stoploss Price\": s,\r\n",
    "           \"Maximum Risk Percent\":r,\r\n",
    "           \"Amount Risk:\":(tas * (r * 0.01)),\r\n",
    "           \"Coins to Buy:\":(tas * (r * 0.01)) / (e - s)},index = [1])\r\n",
    "       return df\r\n",
    "\r\n",
    "def short_order(tas,e,s,r):\r\n",
    "       df = pd.DataFrame({\"Position\":\"Short\",\"Entry Price\":e,\r\n",
    "           \"Stoploss Price\": s,\r\n",
    "           \"Maximum Risk Percent\":r,\r\n",
    "           \"Amount Risk:\":(tas * (r * 0.01)),\r\n",
    "           \"Coins to Buy:\":(tas * (r * 0.01)) / (s - e)},index = [1])\r\n",
    "       return df"
   ],
   "outputs": [],
   "metadata": {}
  },
  {
   "cell_type": "code",
   "execution_count": 117,
   "source": [
    "long_pos = long_order(tas,e,s,r)\r\n",
    "short_pos = short_order(tas,e,s,r)\r\n",
    "order = input(\"Long or Short:\")\r\n",
    "order = str(order).upper()"
   ],
   "outputs": [],
   "metadata": {}
  },
  {
   "cell_type": "code",
   "execution_count": 118,
   "source": [
    "if order == 'LONG':\r\n",
    "    print(long_pos.iloc[0])\r\n",
    "if order == 'SHORT':\r\n",
    "    print(short_pos.iloc[0])"
   ],
   "outputs": [
    {
     "output_type": "stream",
     "name": "stdout",
     "text": [
      "Position                     Short\n",
      "Entry Price                 0.7838\n",
      "Stoploss Price              0.8321\n",
      "Maximum Risk Percent           1.0\n",
      "Amount Risk:                  10.0\n",
      "Coins to Buy:           207.039337\n",
      "Name: 1, dtype: object\n"
     ]
    }
   ],
   "metadata": {}
  },
  {
   "cell_type": "code",
   "execution_count": null,
   "source": [],
   "outputs": [],
   "metadata": {}
  },
  {
   "cell_type": "code",
   "execution_count": null,
   "source": [],
   "outputs": [],
   "metadata": {}
  }
 ],
 "metadata": {
  "orig_nbformat": 4,
  "language_info": {
   "name": "python"
  }
 },
 "nbformat": 4,
 "nbformat_minor": 2
}